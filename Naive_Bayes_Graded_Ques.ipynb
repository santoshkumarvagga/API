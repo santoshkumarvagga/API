{
  "nbformat": 4,
  "nbformat_minor": 0,
  "metadata": {
    "colab": {
      "name": "Naive Bayes Graded Ques.ipynb",
      "provenance": [],
      "collapsed_sections": [],
      "mount_file_id": "1_5uwW5zQgg3cdHj9RdZDT2HRRNh-v0mr",
      "authorship_tag": "ABX9TyONY63mvpCJmwcZhvCf5dTs",
      "include_colab_link": true
    },
    "kernelspec": {
      "name": "python3",
      "display_name": "Python 3"
    }
  },
  "cells": [
    {
      "cell_type": "markdown",
      "metadata": {
        "id": "view-in-github",
        "colab_type": "text"
      },
      "source": [
        "<a href=\"https://colab.research.google.com/github/santoshkumarvagga/API/blob/main/Naive_Bayes_Graded_Ques.ipynb\" target=\"_parent\"><img src=\"https://colab.research.google.com/assets/colab-badge.svg\" alt=\"Open In Colab\"/></a>"
      ]
    },
    {
      "cell_type": "markdown",
      "metadata": {
        "id": "cnW98LYZGM7u"
      },
      "source": [
        "**Lets see training data:**"
      ]
    },
    {
      "cell_type": "code",
      "metadata": {
        "colab": {
          "base_uri": "https://localhost:8080/",
          "height": 202
        },
        "id": "D98w1lCatR-J",
        "outputId": "23724d47-78df-41cd-a1b5-3dabc18043ff"
      },
      "source": [
        "import pandas as pd \r\n",
        "\r\n",
        "# reading the training data\r\n",
        "docs = pd.read_csv(\"/content/drive/MyDrive/Upgrad Datasets/movie_review_train.csv\")\r\n",
        "docs.head()"
      ],
      "execution_count": 20,
      "outputs": [
        {
          "output_type": "execute_result",
          "data": {
            "text/html": [
              "<div>\n",
              "<style scoped>\n",
              "    .dataframe tbody tr th:only-of-type {\n",
              "        vertical-align: middle;\n",
              "    }\n",
              "\n",
              "    .dataframe tbody tr th {\n",
              "        vertical-align: top;\n",
              "    }\n",
              "\n",
              "    .dataframe thead th {\n",
              "        text-align: right;\n",
              "    }\n",
              "</style>\n",
              "<table border=\"1\" class=\"dataframe\">\n",
              "  <thead>\n",
              "    <tr style=\"text-align: right;\">\n",
              "      <th></th>\n",
              "      <th>class</th>\n",
              "      <th>text</th>\n",
              "    </tr>\n",
              "  </thead>\n",
              "  <tbody>\n",
              "    <tr>\n",
              "      <th>0</th>\n",
              "      <td>Pos</td>\n",
              "      <td>a common complaint amongst film critics is   ...</td>\n",
              "    </tr>\n",
              "    <tr>\n",
              "      <th>1</th>\n",
              "      <td>Pos</td>\n",
              "      <td>whew   this film oozes energy   the kind of b...</td>\n",
              "    </tr>\n",
              "    <tr>\n",
              "      <th>2</th>\n",
              "      <td>Pos</td>\n",
              "      <td>steven spielberg s   amistad     which is bas...</td>\n",
              "    </tr>\n",
              "    <tr>\n",
              "      <th>3</th>\n",
              "      <td>Pos</td>\n",
              "      <td>he has spent his entire life in an awful litt...</td>\n",
              "    </tr>\n",
              "    <tr>\n",
              "      <th>4</th>\n",
              "      <td>Pos</td>\n",
              "      <td>being that it is a foreign language film with...</td>\n",
              "    </tr>\n",
              "  </tbody>\n",
              "</table>\n",
              "</div>"
            ],
            "text/plain": [
              "  class                                               text\n",
              "0   Pos   a common complaint amongst film critics is   ...\n",
              "1   Pos   whew   this film oozes energy   the kind of b...\n",
              "2   Pos   steven spielberg s   amistad     which is bas...\n",
              "3   Pos   he has spent his entire life in an awful litt...\n",
              "4   Pos   being that it is a foreign language film with..."
            ]
          },
          "metadata": {
            "tags": []
          },
          "execution_count": 20
        }
      ]
    },
    {
      "cell_type": "code",
      "metadata": {
        "colab": {
          "base_uri": "https://localhost:8080/"
        },
        "id": "JdppsYjHvHMZ",
        "outputId": "974d5897-29b3-42af-994b-b0bb619c9fe3"
      },
      "source": [
        "  docs.info()"
      ],
      "execution_count": 21,
      "outputs": [
        {
          "output_type": "stream",
          "text": [
            "<class 'pandas.core.frame.DataFrame'>\n",
            "RangeIndex: 1600 entries, 0 to 1599\n",
            "Data columns (total 2 columns):\n",
            " #   Column  Non-Null Count  Dtype \n",
            "---  ------  --------------  ----- \n",
            " 0   class   1600 non-null   object\n",
            " 1   text    1600 non-null   object\n",
            "dtypes: object(2)\n",
            "memory usage: 25.1+ KB\n"
          ],
          "name": "stdout"
        }
      ]
    },
    {
      "cell_type": "code",
      "metadata": {
        "colab": {
          "base_uri": "https://localhost:8080/"
        },
        "id": "gieBW049vkGz",
        "outputId": "58339103-36b4-4059-be8b-eb3343bfd9d0"
      },
      "source": [
        "len(docs)"
      ],
      "execution_count": 22,
      "outputs": [
        {
          "output_type": "execute_result",
          "data": {
            "text/plain": [
              "1600"
            ]
          },
          "metadata": {
            "tags": []
          },
          "execution_count": 22
        }
      ]
    },
    {
      "cell_type": "code",
      "metadata": {
        "colab": {
          "base_uri": "https://localhost:8080/"
        },
        "id": "MTOlhs6dxDZ4",
        "outputId": "cdee0620-e5c8-43ba-ba62-284822305e4f"
      },
      "source": [
        "# Lets see the percentage of negative reviews in dataset\r\n",
        "neg_perc = len(docs.loc[docs['class']=='Neg'])/len(docs)* 100\r\n",
        "neg_perc"
      ],
      "execution_count": 23,
      "outputs": [
        {
          "output_type": "execute_result",
          "data": {
            "text/plain": [
              "50.0"
            ]
          },
          "metadata": {
            "tags": []
          },
          "execution_count": 23
        }
      ]
    },
    {
      "cell_type": "code",
      "metadata": {
        "colab": {
          "base_uri": "https://localhost:8080/",
          "height": 415
        },
        "id": "fQDB9slgwB5z",
        "outputId": "51b08235-481f-460c-d7d1-7df542e78c2c"
      },
      "source": [
        "# Tagging Pos to 1 and Neg to 0.(for scikit learn to understand)\r\n",
        "docs['class'] = docs['class'].map({'Pos':1, 'Neg':0})\r\n",
        "docs"
      ],
      "execution_count": 24,
      "outputs": [
        {
          "output_type": "execute_result",
          "data": {
            "text/html": [
              "<div>\n",
              "<style scoped>\n",
              "    .dataframe tbody tr th:only-of-type {\n",
              "        vertical-align: middle;\n",
              "    }\n",
              "\n",
              "    .dataframe tbody tr th {\n",
              "        vertical-align: top;\n",
              "    }\n",
              "\n",
              "    .dataframe thead th {\n",
              "        text-align: right;\n",
              "    }\n",
              "</style>\n",
              "<table border=\"1\" class=\"dataframe\">\n",
              "  <thead>\n",
              "    <tr style=\"text-align: right;\">\n",
              "      <th></th>\n",
              "      <th>class</th>\n",
              "      <th>text</th>\n",
              "    </tr>\n",
              "  </thead>\n",
              "  <tbody>\n",
              "    <tr>\n",
              "      <th>0</th>\n",
              "      <td>1</td>\n",
              "      <td>a common complaint amongst film critics is   ...</td>\n",
              "    </tr>\n",
              "    <tr>\n",
              "      <th>1</th>\n",
              "      <td>1</td>\n",
              "      <td>whew   this film oozes energy   the kind of b...</td>\n",
              "    </tr>\n",
              "    <tr>\n",
              "      <th>2</th>\n",
              "      <td>1</td>\n",
              "      <td>steven spielberg s   amistad     which is bas...</td>\n",
              "    </tr>\n",
              "    <tr>\n",
              "      <th>3</th>\n",
              "      <td>1</td>\n",
              "      <td>he has spent his entire life in an awful litt...</td>\n",
              "    </tr>\n",
              "    <tr>\n",
              "      <th>4</th>\n",
              "      <td>1</td>\n",
              "      <td>being that it is a foreign language film with...</td>\n",
              "    </tr>\n",
              "    <tr>\n",
              "      <th>...</th>\n",
              "      <td>...</td>\n",
              "      <td>...</td>\n",
              "    </tr>\n",
              "    <tr>\n",
              "      <th>1595</th>\n",
              "      <td>0</td>\n",
              "      <td>if anything     stigmata   should be taken as...</td>\n",
              "    </tr>\n",
              "    <tr>\n",
              "      <th>1596</th>\n",
              "      <td>0</td>\n",
              "      <td>john boorman s   zardoz   is a goofy cinemati...</td>\n",
              "    </tr>\n",
              "    <tr>\n",
              "      <th>1597</th>\n",
              "      <td>0</td>\n",
              "      <td>the kids in the hall are an acquired taste   ...</td>\n",
              "    </tr>\n",
              "    <tr>\n",
              "      <th>1598</th>\n",
              "      <td>0</td>\n",
              "      <td>there was a time when john carpenter was a gr...</td>\n",
              "    </tr>\n",
              "    <tr>\n",
              "      <th>1599</th>\n",
              "      <td>0</td>\n",
              "      <td>two party guys bob their heads to haddaway s ...</td>\n",
              "    </tr>\n",
              "  </tbody>\n",
              "</table>\n",
              "<p>1600 rows × 2 columns</p>\n",
              "</div>"
            ],
            "text/plain": [
              "      class                                               text\n",
              "0         1   a common complaint amongst film critics is   ...\n",
              "1         1   whew   this film oozes energy   the kind of b...\n",
              "2         1   steven spielberg s   amistad     which is bas...\n",
              "3         1   he has spent his entire life in an awful litt...\n",
              "4         1   being that it is a foreign language film with...\n",
              "...     ...                                                ...\n",
              "1595      0   if anything     stigmata   should be taken as...\n",
              "1596      0   john boorman s   zardoz   is a goofy cinemati...\n",
              "1597      0   the kids in the hall are an acquired taste   ...\n",
              "1598      0   there was a time when john carpenter was a gr...\n",
              "1599      0   two party guys bob their heads to haddaway s ...\n",
              "\n",
              "[1600 rows x 2 columns]"
            ]
          },
          "metadata": {
            "tags": []
          },
          "execution_count": 24
        }
      ]
    },
    {
      "cell_type": "code",
      "metadata": {
        "colab": {
          "base_uri": "https://localhost:8080/"
        },
        "id": "T7EIEJUBwfVL",
        "outputId": "fdcd33e1-72a9-4d49-91e2-3f4799f58251"
      },
      "source": [
        "X_train = docs['text']\r\n",
        "Y_train = docs['class']\r\n",
        "\r\n",
        "X_train.head()"
      ],
      "execution_count": 25,
      "outputs": [
        {
          "output_type": "execute_result",
          "data": {
            "text/plain": [
              "0     a common complaint amongst film critics is   ...\n",
              "1     whew   this film oozes energy   the kind of b...\n",
              "2     steven spielberg s   amistad     which is bas...\n",
              "3     he has spent his entire life in an awful litt...\n",
              "4     being that it is a foreign language film with...\n",
              "Name: text, dtype: object"
            ]
          },
          "metadata": {
            "tags": []
          },
          "execution_count": 25
        }
      ]
    },
    {
      "cell_type": "code",
      "metadata": {
        "colab": {
          "base_uri": "https://localhost:8080/"
        },
        "id": "9-xwiAbBABzA",
        "outputId": "3466d586-85d1-46a5-b51f-d17ab109812c"
      },
      "source": [
        "Y_train.head()"
      ],
      "execution_count": 26,
      "outputs": [
        {
          "output_type": "execute_result",
          "data": {
            "text/plain": [
              "0    1\n",
              "1    1\n",
              "2    1\n",
              "3    1\n",
              "4    1\n",
              "Name: class, dtype: int64"
            ]
          },
          "metadata": {
            "tags": []
          },
          "execution_count": 26
        }
      ]
    },
    {
      "cell_type": "code",
      "metadata": {
        "id": "SsxbfRqpDxUX"
      },
      "source": [
        "# vectorising the sentences; removing the stop words(using stop_words='english')\r\n",
        "from sklearn.feature_extraction.text import CountVectorizer"
      ],
      "execution_count": 27,
      "outputs": []
    },
    {
      "cell_type": "markdown",
      "metadata": {
        "id": "O0iBgWrQHBrj"
      },
      "source": [
        "Suppose we don't want to consider those (rare) words which have appeared only in 3% of the documents, or say those (extremely common ones) which have appeared in 80% of the documents.\r\n",
        "\r\n",
        "Use CountVectorizer(stop_words='english', min_df=.03, max_df=.8) to create a new vocabulary from the training set."
      ]
    },
    {
      "cell_type": "code",
      "metadata": {
        "colab": {
          "base_uri": "https://localhost:8080/"
        },
        "id": "5ID_a37kBieg",
        "outputId": "5a3fc43f-93a1-4641-fffa-b5e7ab98410c"
      },
      "source": [
        "vect = CountVectorizer(stop_words='english', min_df=.03, max_df=.8) \r\n",
        "vect.fit(X_train)\r\n",
        "len(vect.vocabulary_)"
      ],
      "execution_count": 28,
      "outputs": [
        {
          "output_type": "execute_result",
          "data": {
            "text/plain": [
              "1643"
            ]
          },
          "metadata": {
            "tags": []
          },
          "execution_count": 28
        }
      ]
    },
    {
      "cell_type": "markdown",
      "metadata": {
        "id": "mfpOSPEgBK67"
      },
      "source": [
        "**Lets see Testing data :**"
      ]
    },
    {
      "cell_type": "code",
      "metadata": {
        "colab": {
          "base_uri": "https://localhost:8080/",
          "height": 202
        },
        "id": "auSCaz0GEnYe",
        "outputId": "5350e23a-6b6c-481c-b431-a6585ef1484c"
      },
      "source": [
        "# reading the testing data\r\n",
        "docs_test = pd.read_csv(\"/content/drive/MyDrive/Upgrad Datasets/movie_review_test.csv\")\r\n",
        "docs_test.head()"
      ],
      "execution_count": 29,
      "outputs": [
        {
          "output_type": "execute_result",
          "data": {
            "text/html": [
              "<div>\n",
              "<style scoped>\n",
              "    .dataframe tbody tr th:only-of-type {\n",
              "        vertical-align: middle;\n",
              "    }\n",
              "\n",
              "    .dataframe tbody tr th {\n",
              "        vertical-align: top;\n",
              "    }\n",
              "\n",
              "    .dataframe thead th {\n",
              "        text-align: right;\n",
              "    }\n",
              "</style>\n",
              "<table border=\"1\" class=\"dataframe\">\n",
              "  <thead>\n",
              "    <tr style=\"text-align: right;\">\n",
              "      <th></th>\n",
              "      <th>class</th>\n",
              "      <th>text</th>\n",
              "    </tr>\n",
              "  </thead>\n",
              "  <tbody>\n",
              "    <tr>\n",
              "      <th>0</th>\n",
              "      <td>Pos</td>\n",
              "      <td>films adapted from comic books have had plent...</td>\n",
              "    </tr>\n",
              "    <tr>\n",
              "      <th>1</th>\n",
              "      <td>Pos</td>\n",
              "      <td>every now and then a movie comes along from a...</td>\n",
              "    </tr>\n",
              "    <tr>\n",
              "      <th>2</th>\n",
              "      <td>Pos</td>\n",
              "      <td>you ve got mail works alot better than it des...</td>\n",
              "    </tr>\n",
              "    <tr>\n",
              "      <th>3</th>\n",
              "      <td>Pos</td>\n",
              "      <td>jaws   is a rare film that grabs your atte...</td>\n",
              "    </tr>\n",
              "    <tr>\n",
              "      <th>4</th>\n",
              "      <td>Pos</td>\n",
              "      <td>moviemaking is a lot like being the general m...</td>\n",
              "    </tr>\n",
              "  </tbody>\n",
              "</table>\n",
              "</div>"
            ],
            "text/plain": [
              "  class                                               text\n",
              "0   Pos   films adapted from comic books have had plent...\n",
              "1   Pos   every now and then a movie comes along from a...\n",
              "2   Pos   you ve got mail works alot better than it des...\n",
              "3   Pos      jaws   is a rare film that grabs your atte...\n",
              "4   Pos   moviemaking is a lot like being the general m..."
            ]
          },
          "metadata": {
            "tags": []
          },
          "execution_count": 29
        }
      ]
    },
    {
      "cell_type": "code",
      "metadata": {
        "colab": {
          "base_uri": "https://localhost:8080/",
          "height": 202
        },
        "id": "2XLPLIC8E3xB",
        "outputId": "eae109ab-0ec2-497d-94b0-8f93c7ec8369"
      },
      "source": [
        "# Tagging Pos to 1 and Neg to 0.(for scikit learn to understand)\r\n",
        "docs_test['class'] = docs_test['class'].map({'Pos':1, 'Neg':0})\r\n",
        "docs_test.head()"
      ],
      "execution_count": 30,
      "outputs": [
        {
          "output_type": "execute_result",
          "data": {
            "text/html": [
              "<div>\n",
              "<style scoped>\n",
              "    .dataframe tbody tr th:only-of-type {\n",
              "        vertical-align: middle;\n",
              "    }\n",
              "\n",
              "    .dataframe tbody tr th {\n",
              "        vertical-align: top;\n",
              "    }\n",
              "\n",
              "    .dataframe thead th {\n",
              "        text-align: right;\n",
              "    }\n",
              "</style>\n",
              "<table border=\"1\" class=\"dataframe\">\n",
              "  <thead>\n",
              "    <tr style=\"text-align: right;\">\n",
              "      <th></th>\n",
              "      <th>class</th>\n",
              "      <th>text</th>\n",
              "    </tr>\n",
              "  </thead>\n",
              "  <tbody>\n",
              "    <tr>\n",
              "      <th>0</th>\n",
              "      <td>1</td>\n",
              "      <td>films adapted from comic books have had plent...</td>\n",
              "    </tr>\n",
              "    <tr>\n",
              "      <th>1</th>\n",
              "      <td>1</td>\n",
              "      <td>every now and then a movie comes along from a...</td>\n",
              "    </tr>\n",
              "    <tr>\n",
              "      <th>2</th>\n",
              "      <td>1</td>\n",
              "      <td>you ve got mail works alot better than it des...</td>\n",
              "    </tr>\n",
              "    <tr>\n",
              "      <th>3</th>\n",
              "      <td>1</td>\n",
              "      <td>jaws   is a rare film that grabs your atte...</td>\n",
              "    </tr>\n",
              "    <tr>\n",
              "      <th>4</th>\n",
              "      <td>1</td>\n",
              "      <td>moviemaking is a lot like being the general m...</td>\n",
              "    </tr>\n",
              "  </tbody>\n",
              "</table>\n",
              "</div>"
            ],
            "text/plain": [
              "   class                                               text\n",
              "0      1   films adapted from comic books have had plent...\n",
              "1      1   every now and then a movie comes along from a...\n",
              "2      1   you ve got mail works alot better than it des...\n",
              "3      1      jaws   is a rare film that grabs your atte...\n",
              "4      1   moviemaking is a lot like being the general m..."
            ]
          },
          "metadata": {
            "tags": []
          },
          "execution_count": 30
        }
      ]
    },
    {
      "cell_type": "code",
      "metadata": {
        "colab": {
          "base_uri": "https://localhost:8080/"
        },
        "id": "G1NBYmpLFI5y",
        "outputId": "e698af1c-39ab-4d65-e225-7a27cdb69bc8"
      },
      "source": [
        "X_test = docs_test['text']\r\n",
        "Y_test = docs_test['class']\r\n",
        "\r\n",
        "X_test_transformed = vect.transform(X_test)\r\n",
        "print(X_test_transformed.count_nonzero())"
      ],
      "execution_count": 31,
      "outputs": [
        {
          "output_type": "stream",
          "text": [
            "51663\n"
          ],
          "name": "stdout"
        }
      ]
    },
    {
      "cell_type": "markdown",
      "metadata": {
        "id": "Q5auYihbBkQ1"
      },
      "source": [
        "**base condition**"
      ]
    },
    {
      "cell_type": "code",
      "metadata": {
        "id": "I8c2L5LgALo9"
      },
      "source": [
        "vect = CountVectorizer(stop_words='english')"
      ],
      "execution_count": 32,
      "outputs": []
    },
    {
      "cell_type": "code",
      "metadata": {
        "colab": {
          "base_uri": "https://localhost:8080/"
        },
        "id": "zH0C0wMOA8mm",
        "outputId": "a87c6ea2-618f-458c-b10a-dc05aee32806"
      },
      "source": [
        "vect.fit(X_train)"
      ],
      "execution_count": 33,
      "outputs": [
        {
          "output_type": "execute_result",
          "data": {
            "text/plain": [
              "CountVectorizer(analyzer='word', binary=False, decode_error='strict',\n",
              "                dtype=<class 'numpy.int64'>, encoding='utf-8', input='content',\n",
              "                lowercase=True, max_df=1.0, max_features=None, min_df=1,\n",
              "                ngram_range=(1, 1), preprocessor=None, stop_words='english',\n",
              "                strip_accents=None, token_pattern='(?u)\\\\b\\\\w\\\\w+\\\\b',\n",
              "                tokenizer=None, vocabulary=None)"
            ]
          },
          "metadata": {
            "tags": []
          },
          "execution_count": 33
        }
      ]
    },
    {
      "cell_type": "code",
      "metadata": {
        "colab": {
          "base_uri": "https://localhost:8080/"
        },
        "id": "ibxEWu7MA_pp",
        "outputId": "b3f87d4f-d8cf-4a1f-9cb1-8fbe0b120ff1"
      },
      "source": [
        "len(vect.vocabulary_)"
      ],
      "execution_count": 34,
      "outputs": [
        {
          "output_type": "execute_result",
          "data": {
            "text/plain": [
              "35858"
            ]
          },
          "metadata": {
            "tags": []
          },
          "execution_count": 34
        }
      ]
    }
  ]
}