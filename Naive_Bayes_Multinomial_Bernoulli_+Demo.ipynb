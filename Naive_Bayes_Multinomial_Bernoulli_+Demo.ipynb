{
  "nbformat": 4,
  "nbformat_minor": 0,
  "metadata": {
    "anaconda-cloud": {},
    "kernelspec": {
      "display_name": "Python 3",
      "language": "python",
      "name": "python3"
    },
    "language_info": {
      "codemirror_mode": {
        "name": "ipython",
        "version": 3
      },
      "file_extension": ".py",
      "mimetype": "text/x-python",
      "name": "python",
      "nbconvert_exporter": "python",
      "pygments_lexer": "ipython3",
      "version": "3.6.4"
    },
    "colab": {
      "name": "Naive_Bayes_Multinomial_Bernoulli_+Demo.ipynb",
      "provenance": [],
      "include_colab_link": true
    }
  },
  "cells": [
    {
      "cell_type": "markdown",
      "metadata": {
        "id": "view-in-github",
        "colab_type": "text"
      },
      "source": [
        "<a href=\"https://colab.research.google.com/github/santoshkumarvagga/API/blob/main/Naive_Bayes_Multinomial_Bernoulli_%2BDemo.ipynb\" target=\"_parent\"><img src=\"https://colab.research.google.com/assets/colab-badge.svg\" alt=\"Open In Colab\"/></a>"
      ]
    },
    {
      "cell_type": "markdown",
      "metadata": {
        "id": "bGjQ5Dld0WHr"
      },
      "source": [
        "## Multinomial and Bernoulli Naive Bayes"
      ]
    },
    {
      "cell_type": "markdown",
      "metadata": {
        "id": "Eev12MN_0WHu"
      },
      "source": [
        "For understanding Multinomial and Bernoulli Naive Bayes, we will start with a small example and understand the end to end process. In another notebook, we will build a full-fledged email spam classifier.\n",
        "\n",
        "To start with, let's take a few sentences and classify them in two different classes - *education* or *cinema*. Each sentence will represent one document. In real-world cases, a document be any piece of text such as an email, a news article, a book review, a tweet etc.\n",
        "The analysis and the algorithm involved doesn’t depend on the type of document we use."
      ]
    },
    {
      "cell_type": "markdown",
      "metadata": {
        "id": "f7B3_gwf0WH6"
      },
      "source": [
        "The notebook is divided into the following sections:\n",
        "1. Importing and preprocessing data\n",
        "2. Building the model: Multinomial Naive Bayes\n",
        "3. Building the model: Bernoulli Naive Bayes"
      ]
    },
    {
      "cell_type": "code",
      "metadata": {
        "colab": {
          "base_uri": "https://localhost:8080/"
        },
        "id": "L2axYPywCuZv",
        "outputId": "49914de7-0f64-4988-b013-10d8207c9a9a"
      },
      "source": [
        "from google.colab import drive\n",
        "drive.mount('/content/drive')"
      ],
      "execution_count": 6,
      "outputs": [
        {
          "output_type": "stream",
          "text": [
            "Drive already mounted at /content/drive; to attempt to forcibly remount, call drive.mount(\"/content/drive\", force_remount=True).\n"
          ],
          "name": "stdout"
        }
      ]
    },
    {
      "cell_type": "markdown",
      "metadata": {
        "id": "B99i1MkK0WH6"
      },
      "source": [
        "### 1. Importing and Preprocessing Data\n",
        "\n",
        "Let us first look at the sentences and their classes. We have kept the training sentences in file example_train.csv. Test sentences have been put in the file example_test.csv."
      ]
    },
    {
      "cell_type": "code",
      "metadata": {
        "id": "AuGjz_4o0WH7",
        "colab": {
          "base_uri": "https://localhost:8080/",
          "height": 202
        },
        "outputId": "8d59aa54-6d56-4d6a-8d84-58b8c5038fc4"
      },
      "source": [
        "import numpy as np\n",
        "import pandas as pd\n",
        "import sklearn\n",
        "\n",
        "# training data\n",
        "train_docs = pd.read_csv(\"/content/drive/MyDrive/Upgrad Datasets/example_train.csv\") \n",
        "train_docs"
      ],
      "execution_count": 7,
      "outputs": [
        {
          "output_type": "execute_result",
          "data": {
            "text/html": [
              "<div>\n",
              "<style scoped>\n",
              "    .dataframe tbody tr th:only-of-type {\n",
              "        vertical-align: middle;\n",
              "    }\n",
              "\n",
              "    .dataframe tbody tr th {\n",
              "        vertical-align: top;\n",
              "    }\n",
              "\n",
              "    .dataframe thead th {\n",
              "        text-align: right;\n",
              "    }\n",
              "</style>\n",
              "<table border=\"1\" class=\"dataframe\">\n",
              "  <thead>\n",
              "    <tr style=\"text-align: right;\">\n",
              "      <th></th>\n",
              "      <th>Document</th>\n",
              "      <th>Class</th>\n",
              "    </tr>\n",
              "  </thead>\n",
              "  <tbody>\n",
              "    <tr>\n",
              "      <th>0</th>\n",
              "      <td>Upgrad is a great educational institution.</td>\n",
              "      <td>education</td>\n",
              "    </tr>\n",
              "    <tr>\n",
              "      <th>1</th>\n",
              "      <td>Educational greatness depends on ethics</td>\n",
              "      <td>education</td>\n",
              "    </tr>\n",
              "    <tr>\n",
              "      <th>2</th>\n",
              "      <td>A story of great ethics and educational greatness</td>\n",
              "      <td>education</td>\n",
              "    </tr>\n",
              "    <tr>\n",
              "      <th>3</th>\n",
              "      <td>Sholey is a great cinema</td>\n",
              "      <td>cinema</td>\n",
              "    </tr>\n",
              "    <tr>\n",
              "      <th>4</th>\n",
              "      <td>good movie depends on good story</td>\n",
              "      <td>cinema</td>\n",
              "    </tr>\n",
              "  </tbody>\n",
              "</table>\n",
              "</div>"
            ],
            "text/plain": [
              "                                            Document      Class\n",
              "0         Upgrad is a great educational institution.  education\n",
              "1            Educational greatness depends on ethics  education\n",
              "2  A story of great ethics and educational greatness  education\n",
              "3                           Sholey is a great cinema     cinema\n",
              "4                   good movie depends on good story     cinema"
            ]
          },
          "metadata": {
            "tags": []
          },
          "execution_count": 7
        }
      ]
    },
    {
      "cell_type": "markdown",
      "metadata": {
        "id": "3YGSaUr50WH_"
      },
      "source": [
        "So as you can see there are 5 documents (sentences) , 3 are of \"education\" class and 2 are of \"cinema\" class."
      ]
    },
    {
      "cell_type": "code",
      "metadata": {
        "id": "o18aYlr30WH_",
        "colab": {
          "base_uri": "https://localhost:8080/",
          "height": 202
        },
        "outputId": "28d40e30-aec0-4fbc-ba28-cf3f2cb45096"
      },
      "source": [
        "# convert label to a numerical variable\n",
        "train_docs['Class'] = train_docs.Class.map({'cinema':0, 'education':1})\n",
        "train_docs"
      ],
      "execution_count": 8,
      "outputs": [
        {
          "output_type": "execute_result",
          "data": {
            "text/html": [
              "<div>\n",
              "<style scoped>\n",
              "    .dataframe tbody tr th:only-of-type {\n",
              "        vertical-align: middle;\n",
              "    }\n",
              "\n",
              "    .dataframe tbody tr th {\n",
              "        vertical-align: top;\n",
              "    }\n",
              "\n",
              "    .dataframe thead th {\n",
              "        text-align: right;\n",
              "    }\n",
              "</style>\n",
              "<table border=\"1\" class=\"dataframe\">\n",
              "  <thead>\n",
              "    <tr style=\"text-align: right;\">\n",
              "      <th></th>\n",
              "      <th>Document</th>\n",
              "      <th>Class</th>\n",
              "    </tr>\n",
              "  </thead>\n",
              "  <tbody>\n",
              "    <tr>\n",
              "      <th>0</th>\n",
              "      <td>Upgrad is a great educational institution.</td>\n",
              "      <td>1</td>\n",
              "    </tr>\n",
              "    <tr>\n",
              "      <th>1</th>\n",
              "      <td>Educational greatness depends on ethics</td>\n",
              "      <td>1</td>\n",
              "    </tr>\n",
              "    <tr>\n",
              "      <th>2</th>\n",
              "      <td>A story of great ethics and educational greatness</td>\n",
              "      <td>1</td>\n",
              "    </tr>\n",
              "    <tr>\n",
              "      <th>3</th>\n",
              "      <td>Sholey is a great cinema</td>\n",
              "      <td>0</td>\n",
              "    </tr>\n",
              "    <tr>\n",
              "      <th>4</th>\n",
              "      <td>good movie depends on good story</td>\n",
              "      <td>0</td>\n",
              "    </tr>\n",
              "  </tbody>\n",
              "</table>\n",
              "</div>"
            ],
            "text/plain": [
              "                                            Document  Class\n",
              "0         Upgrad is a great educational institution.      1\n",
              "1            Educational greatness depends on ethics      1\n",
              "2  A story of great ethics and educational greatness      1\n",
              "3                           Sholey is a great cinema      0\n",
              "4                   good movie depends on good story      0"
            ]
          },
          "metadata": {
            "tags": []
          },
          "execution_count": 8
        }
      ]
    },
    {
      "cell_type": "markdown",
      "metadata": {
        "id": "8zUH4UM_0WIA"
      },
      "source": [
        "Let's now split the dataframe into X and y labels."
      ]
    },
    {
      "cell_type": "code",
      "metadata": {
        "id": "XxdIBK9M0WIA",
        "colab": {
          "base_uri": "https://localhost:8080/"
        },
        "outputId": "47fa6c4b-4670-4d45-b782-12cef5e116a9"
      },
      "source": [
        "# convert the df to a numpy array \n",
        "train_array = train_docs.values\n",
        "\n",
        "# split X and y\n",
        "X_train = train_array[:,0]\n",
        "y_train = train_array[:,1]\n",
        "y_train = y_train.astype('int') # sklearn needs y as integers\n",
        "\n",
        "print(\"X_train\")\n",
        "print(X_train)\n",
        "print(\"y_train\")\n",
        "print(y_train)"
      ],
      "execution_count": 9,
      "outputs": [
        {
          "output_type": "stream",
          "text": [
            "X_train\n",
            "['Upgrad is a great educational institution.'\n",
            " 'Educational greatness depends on ethics'\n",
            " 'A story of great ethics and educational greatness'\n",
            " 'Sholey is a great cinema' 'good movie depends on good story']\n",
            "y_train\n",
            "[1 1 1 0 0]\n"
          ],
          "name": "stdout"
        }
      ]
    },
    {
      "cell_type": "markdown",
      "metadata": {
        "id": "xynlXAho0WIB"
      },
      "source": [
        "### Creating the Bag of Words Representation\n",
        "\n",
        "We now have to convert the data into a format which can be used for training the model. We'll use the **bag of words representation** for each sentence (document).\n",
        "\n",
        "Imagine breaking X in individual words and putting them all in a bag. Then we pick all the unique words from the bag one by one and make a dictionary of unique words. \n",
        "\n",
        "This is called **vectorization of words**. We have the class ```CountVectorizer()``` in scikit learn to vectorize the words. \n"
      ]
    },
    {
      "cell_type": "code",
      "metadata": {
        "id": "_6nVynd60WIB"
      },
      "source": [
        "# create an object of CountVectorizer() class \n",
        "from sklearn.feature_extraction.text import CountVectorizer \n",
        "# help(CountVectorizer)"
      ],
      "execution_count": 10,
      "outputs": []
    },
    {
      "cell_type": "code",
      "metadata": {
        "id": "yKdXhTsY0WIC"
      },
      "source": [
        "vec = CountVectorizer()"
      ],
      "execution_count": 11,
      "outputs": []
    },
    {
      "cell_type": "markdown",
      "metadata": {
        "id": "iUVr8sJ50WIC"
      },
      "source": [
        "Here ```vec``` is an object of class ```CountVectorizer()```. This has a method called  ```fit()``` which converts a corpus of documents to a matrix of 'tokens'."
      ]
    },
    {
      "cell_type": "code",
      "metadata": {
        "id": "347O3PI30WIC",
        "colab": {
          "base_uri": "https://localhost:8080/"
        },
        "outputId": "3045866e-c262-4fce-c6a3-203996b178d3"
      },
      "source": [
        "# fit the vectorizer on training data \n",
        "vec.fit(X_train)\n",
        "vec.vocabulary_"
      ],
      "execution_count": 12,
      "outputs": [
        {
          "output_type": "execute_result",
          "data": {
            "text/plain": [
              "{'and': 0,\n",
              " 'cinema': 1,\n",
              " 'depends': 2,\n",
              " 'educational': 3,\n",
              " 'ethics': 4,\n",
              " 'good': 5,\n",
              " 'great': 6,\n",
              " 'greatness': 7,\n",
              " 'institution': 8,\n",
              " 'is': 9,\n",
              " 'movie': 10,\n",
              " 'of': 11,\n",
              " 'on': 12,\n",
              " 'sholey': 13,\n",
              " 'story': 14,\n",
              " 'upgrad': 15}"
            ]
          },
          "metadata": {
            "tags": []
          },
          "execution_count": 12
        }
      ]
    },
    {
      "cell_type": "markdown",
      "metadata": {
        "id": "hYFyWcn_0WID"
      },
      "source": [
        "```Countvectorizer()``` has converted the documents into a set of unique words alphabetically sorted and indexed.\n",
        "\n",
        "\n",
        "**Stop Words**\n",
        "\n",
        "We can see a few trivial words such as  'and','is','of', etc. These words don't really make any difference in classyfying a document. These are called **stop words**. So we would like to get rid of them. \n",
        "\n",
        "We can remove them by passing a parameter stop_words='english' while instantiating ```Countvectorizer()``` as follows: "
      ]
    },
    {
      "cell_type": "code",
      "metadata": {
        "id": "7CQYN5cN0WID",
        "colab": {
          "base_uri": "https://localhost:8080/"
        },
        "outputId": "5c3da1b5-16b4-4ef6-dcb2-de3f3edb0c0b"
      },
      "source": [
        "# fitting the vectorizer on training data again\n",
        "# removing the stop words this time\n",
        "vec = CountVectorizer(stop_words='english')\n",
        "vec.fit(X_train)\n",
        "vec.vocabulary_"
      ],
      "execution_count": 13,
      "outputs": [
        {
          "output_type": "execute_result",
          "data": {
            "text/plain": [
              "{'cinema': 0,\n",
              " 'depends': 1,\n",
              " 'educational': 2,\n",
              " 'ethics': 3,\n",
              " 'good': 4,\n",
              " 'great': 5,\n",
              " 'greatness': 6,\n",
              " 'institution': 7,\n",
              " 'movie': 8,\n",
              " 'sholey': 9,\n",
              " 'story': 10,\n",
              " 'upgrad': 11}"
            ]
          },
          "metadata": {
            "tags": []
          },
          "execution_count": 13
        }
      ]
    },
    {
      "cell_type": "markdown",
      "metadata": {
        "id": "7n2XB6tU0WIE"
      },
      "source": [
        "Notice that the vocabulary has reduced to 12 from 15. Another way of printing the 'vocabulary' is as follows:"
      ]
    },
    {
      "cell_type": "code",
      "metadata": {
        "id": "Ja2Rel-B0WIE",
        "colab": {
          "base_uri": "https://localhost:8080/"
        },
        "outputId": "f9b282c9-f3ee-4e04-9fe2-91cc6177d6c8"
      },
      "source": [
        "# printing feature names\n",
        "print(vec.get_feature_names())\n",
        "print(len(vec.get_feature_names()))"
      ],
      "execution_count": 14,
      "outputs": [
        {
          "output_type": "stream",
          "text": [
            "['cinema', 'depends', 'educational', 'ethics', 'good', 'great', 'greatness', 'institution', 'movie', 'sholey', 'story', 'upgrad']\n",
            "12\n"
          ],
          "name": "stdout"
        }
      ]
    },
    {
      "cell_type": "markdown",
      "metadata": {
        "id": "FvEJlQFa0WIE"
      },
      "source": [
        "So our final dictionary is made of 12 words (after discarding the stop words). Now, to do classification, we need to represent all the documents with these words (or tokens) as features. \n",
        "\n",
        "Every document will be converted into a *feature vector* representing presence of these words in that document. Let's convert each of our training documents in to a feature vector."
      ]
    },
    {
      "cell_type": "code",
      "metadata": {
        "id": "Of5V7p5y0WIF",
        "colab": {
          "base_uri": "https://localhost:8080/"
        },
        "outputId": "da534f66-dbc8-4834-c5d8-7ee53c6e5226"
      },
      "source": [
        "# another way of representing the features\n",
        "X_transformed = vec.transform(X_train)\n",
        "X_transformed"
      ],
      "execution_count": 15,
      "outputs": [
        {
          "output_type": "execute_result",
          "data": {
            "text/plain": [
              "<5x12 sparse matrix of type '<class 'numpy.int64'>'\n",
              "\twith 20 stored elements in Compressed Sparse Row format>"
            ]
          },
          "metadata": {
            "tags": []
          },
          "execution_count": 15
        }
      ]
    },
    {
      "cell_type": "markdown",
      "metadata": {
        "id": "HupBy4-K0WIF"
      },
      "source": [
        "You can see X_tranformed is a 5 x 12 **sparse matrix**. It has 5 rows for each of our 5 documents and 12 columns each \n",
        "for one word of the dictionary which we just created. Let us print X_transformed."
      ]
    },
    {
      "cell_type": "code",
      "metadata": {
        "scrolled": true,
        "id": "Pw29NMkV0WIF",
        "colab": {
          "base_uri": "https://localhost:8080/"
        },
        "outputId": "1a25f105-bdbb-43bf-c4ee-def010477933"
      },
      "source": [
        "print(X_transformed)"
      ],
      "execution_count": 16,
      "outputs": [
        {
          "output_type": "stream",
          "text": [
            "  (0, 2)\t1\n",
            "  (0, 5)\t1\n",
            "  (0, 7)\t1\n",
            "  (0, 11)\t1\n",
            "  (1, 1)\t1\n",
            "  (1, 2)\t1\n",
            "  (1, 3)\t1\n",
            "  (1, 6)\t1\n",
            "  (2, 2)\t1\n",
            "  (2, 3)\t1\n",
            "  (2, 5)\t1\n",
            "  (2, 6)\t1\n",
            "  (2, 10)\t1\n",
            "  (3, 0)\t1\n",
            "  (3, 5)\t1\n",
            "  (3, 9)\t1\n",
            "  (4, 1)\t1\n",
            "  (4, 4)\t2\n",
            "  (4, 8)\t1\n",
            "  (4, 10)\t1\n"
          ],
          "name": "stdout"
        }
      ]
    },
    {
      "cell_type": "markdown",
      "metadata": {
        "id": "kRSp5Kjj0WIG"
      },
      "source": [
        "This representation can be understood as follows:\n",
        "\n",
        "Consider first 4 rows of the output: (0,2), (0,5), (0,7) and (0,11). It says that the first document (index 0) has \n",
        "7th , 2nd , 5th and 11th 'word' present in the document, and that they appear only\n",
        "once in the document- indicated by the right hand column entry. \n",
        "\n",
        "Similarly, consider the entry (4,4) (third from bottom). It says that the fifth document has the fifth word present twice. Indeed, the 5th word('good') appears twice in the 5th document. \n",
        "\n",
        "In real problems, you often work with large documents and vocabularies, and each document contains only a few words in the vocabulary. So it would be a waste of space to store the vocabulary in a typical dataframe, since most entries would be zero. Also, matrix products, additions etc. are much faster with sparse matrices. That's why we use sparse matrices to store the data.\n",
        "\n",
        "\n",
        "Let us convert this sparse matrix into a more easily interpretable array:"
      ]
    },
    {
      "cell_type": "code",
      "metadata": {
        "id": "D7DH1Ez90WIG",
        "colab": {
          "base_uri": "https://localhost:8080/"
        },
        "outputId": "3c31fd14-61b6-43c8-9467-66f914af9367"
      },
      "source": [
        "# converting transformed matrix back to an array\n",
        "# note the high number of zeros\n",
        "X_transformed.toarray()"
      ],
      "execution_count": 17,
      "outputs": [
        {
          "output_type": "execute_result",
          "data": {
            "text/plain": [
              "array([[0, 0, 1, 0, 0, 1, 0, 1, 0, 0, 0, 1],\n",
              "       [0, 1, 1, 1, 0, 0, 1, 0, 0, 0, 0, 0],\n",
              "       [0, 0, 1, 1, 0, 1, 1, 0, 0, 0, 1, 0],\n",
              "       [1, 0, 0, 0, 0, 1, 0, 0, 0, 1, 0, 0],\n",
              "       [0, 1, 0, 0, 2, 0, 0, 0, 1, 0, 1, 0]])"
            ]
          },
          "metadata": {
            "tags": []
          },
          "execution_count": 17
        }
      ]
    },
    {
      "cell_type": "markdown",
      "metadata": {
        "id": "jEdNIPVA0WIG"
      },
      "source": [
        "To make the dataset more readable, let us examine the vocabulary and the document-term matrix together in a pandas dataframe. The way to convert a matrix into a dataframe is ```pd.DataFrame(matrix, columns=columns)```.\n"
      ]
    },
    {
      "cell_type": "code",
      "metadata": {
        "id": "u5u2_4FB0WIH",
        "colab": {
          "base_uri": "https://localhost:8080/",
          "height": 202
        },
        "outputId": "90fd69ac-19a6-4aad-e641-6f6dd7b34a08"
      },
      "source": [
        "# converting matrix to dataframe\n",
        "pd.DataFrame(X_transformed.toarray(), \n",
        "             columns=vec.get_feature_names())"
      ],
      "execution_count": 18,
      "outputs": [
        {
          "output_type": "execute_result",
          "data": {
            "text/html": [
              "<div>\n",
              "<style scoped>\n",
              "    .dataframe tbody tr th:only-of-type {\n",
              "        vertical-align: middle;\n",
              "    }\n",
              "\n",
              "    .dataframe tbody tr th {\n",
              "        vertical-align: top;\n",
              "    }\n",
              "\n",
              "    .dataframe thead th {\n",
              "        text-align: right;\n",
              "    }\n",
              "</style>\n",
              "<table border=\"1\" class=\"dataframe\">\n",
              "  <thead>\n",
              "    <tr style=\"text-align: right;\">\n",
              "      <th></th>\n",
              "      <th>cinema</th>\n",
              "      <th>depends</th>\n",
              "      <th>educational</th>\n",
              "      <th>ethics</th>\n",
              "      <th>good</th>\n",
              "      <th>great</th>\n",
              "      <th>greatness</th>\n",
              "      <th>institution</th>\n",
              "      <th>movie</th>\n",
              "      <th>sholey</th>\n",
              "      <th>story</th>\n",
              "      <th>upgrad</th>\n",
              "    </tr>\n",
              "  </thead>\n",
              "  <tbody>\n",
              "    <tr>\n",
              "      <th>0</th>\n",
              "      <td>0</td>\n",
              "      <td>0</td>\n",
              "      <td>1</td>\n",
              "      <td>0</td>\n",
              "      <td>0</td>\n",
              "      <td>1</td>\n",
              "      <td>0</td>\n",
              "      <td>1</td>\n",
              "      <td>0</td>\n",
              "      <td>0</td>\n",
              "      <td>0</td>\n",
              "      <td>1</td>\n",
              "    </tr>\n",
              "    <tr>\n",
              "      <th>1</th>\n",
              "      <td>0</td>\n",
              "      <td>1</td>\n",
              "      <td>1</td>\n",
              "      <td>1</td>\n",
              "      <td>0</td>\n",
              "      <td>0</td>\n",
              "      <td>1</td>\n",
              "      <td>0</td>\n",
              "      <td>0</td>\n",
              "      <td>0</td>\n",
              "      <td>0</td>\n",
              "      <td>0</td>\n",
              "    </tr>\n",
              "    <tr>\n",
              "      <th>2</th>\n",
              "      <td>0</td>\n",
              "      <td>0</td>\n",
              "      <td>1</td>\n",
              "      <td>1</td>\n",
              "      <td>0</td>\n",
              "      <td>1</td>\n",
              "      <td>1</td>\n",
              "      <td>0</td>\n",
              "      <td>0</td>\n",
              "      <td>0</td>\n",
              "      <td>1</td>\n",
              "      <td>0</td>\n",
              "    </tr>\n",
              "    <tr>\n",
              "      <th>3</th>\n",
              "      <td>1</td>\n",
              "      <td>0</td>\n",
              "      <td>0</td>\n",
              "      <td>0</td>\n",
              "      <td>0</td>\n",
              "      <td>1</td>\n",
              "      <td>0</td>\n",
              "      <td>0</td>\n",
              "      <td>0</td>\n",
              "      <td>1</td>\n",
              "      <td>0</td>\n",
              "      <td>0</td>\n",
              "    </tr>\n",
              "    <tr>\n",
              "      <th>4</th>\n",
              "      <td>0</td>\n",
              "      <td>1</td>\n",
              "      <td>0</td>\n",
              "      <td>0</td>\n",
              "      <td>2</td>\n",
              "      <td>0</td>\n",
              "      <td>0</td>\n",
              "      <td>0</td>\n",
              "      <td>1</td>\n",
              "      <td>0</td>\n",
              "      <td>1</td>\n",
              "      <td>0</td>\n",
              "    </tr>\n",
              "  </tbody>\n",
              "</table>\n",
              "</div>"
            ],
            "text/plain": [
              "   cinema  depends  educational  ethics  ...  movie  sholey  story  upgrad\n",
              "0       0        0            1       0  ...      0       0      0       1\n",
              "1       0        1            1       1  ...      0       0      0       0\n",
              "2       0        0            1       1  ...      0       0      1       0\n",
              "3       1        0            0       0  ...      0       1      0       0\n",
              "4       0        1            0       0  ...      1       0      1       0\n",
              "\n",
              "[5 rows x 12 columns]"
            ]
          },
          "metadata": {
            "tags": []
          },
          "execution_count": 18
        }
      ]
    },
    {
      "cell_type": "markdown",
      "metadata": {
        "id": "_ZCwtSwg0WIH"
      },
      "source": [
        "This table shows how many times a particular word occurs in document. In other words, this is a frequency table of the words."
      ]
    },
    {
      "cell_type": "markdown",
      "metadata": {
        "id": "IjfzU7170WII"
      },
      "source": [
        "A corpus of documents can thus be represented by a matrix with one row per document and one column per\n",
        "token (e.g. word) occurring in the corpus."
      ]
    },
    {
      "cell_type": "markdown",
      "metadata": {
        "id": "eulG1_i80WII"
      },
      "source": [
        "Let's now import and transform the test data as well."
      ]
    },
    {
      "cell_type": "code",
      "metadata": {
        "id": "v2m7ld7W0WII",
        "colab": {
          "base_uri": "https://localhost:8080/",
          "height": 79
        },
        "outputId": "b4d2bfeb-bb51-4eee-bd6c-0e09640d7220"
      },
      "source": [
        "# test data\n",
        "test_docs = pd.read_csv(\"/content/drive/MyDrive/Upgrad Datasets/example_test.csv\") \n",
        "test_docs"
      ],
      "execution_count": 19,
      "outputs": [
        {
          "output_type": "execute_result",
          "data": {
            "text/html": [
              "<div>\n",
              "<style scoped>\n",
              "    .dataframe tbody tr th:only-of-type {\n",
              "        vertical-align: middle;\n",
              "    }\n",
              "\n",
              "    .dataframe tbody tr th {\n",
              "        vertical-align: top;\n",
              "    }\n",
              "\n",
              "    .dataframe thead th {\n",
              "        text-align: right;\n",
              "    }\n",
              "</style>\n",
              "<table border=\"1\" class=\"dataframe\">\n",
              "  <thead>\n",
              "    <tr style=\"text-align: right;\">\n",
              "      <th></th>\n",
              "      <th>Document</th>\n",
              "      <th>Class</th>\n",
              "    </tr>\n",
              "  </thead>\n",
              "  <tbody>\n",
              "    <tr>\n",
              "      <th>0</th>\n",
              "      <td>very good educational institution</td>\n",
              "      <td>education</td>\n",
              "    </tr>\n",
              "  </tbody>\n",
              "</table>\n",
              "</div>"
            ],
            "text/plain": [
              "                            Document      Class\n",
              "0  very good educational institution  education"
            ]
          },
          "metadata": {
            "tags": []
          },
          "execution_count": 19
        }
      ]
    },
    {
      "cell_type": "code",
      "metadata": {
        "id": "lnvu2HXV0WIJ",
        "colab": {
          "base_uri": "https://localhost:8080/",
          "height": 79
        },
        "outputId": "7e999a08-7dc9-49bc-a504-b94d76859206"
      },
      "source": [
        "# convert label to a numerical variable\n",
        "test_docs['Class'] = test_docs.Class.map({'cinema':0, 'education':1})\n",
        "test_docs"
      ],
      "execution_count": 20,
      "outputs": [
        {
          "output_type": "execute_result",
          "data": {
            "text/html": [
              "<div>\n",
              "<style scoped>\n",
              "    .dataframe tbody tr th:only-of-type {\n",
              "        vertical-align: middle;\n",
              "    }\n",
              "\n",
              "    .dataframe tbody tr th {\n",
              "        vertical-align: top;\n",
              "    }\n",
              "\n",
              "    .dataframe thead th {\n",
              "        text-align: right;\n",
              "    }\n",
              "</style>\n",
              "<table border=\"1\" class=\"dataframe\">\n",
              "  <thead>\n",
              "    <tr style=\"text-align: right;\">\n",
              "      <th></th>\n",
              "      <th>Document</th>\n",
              "      <th>Class</th>\n",
              "    </tr>\n",
              "  </thead>\n",
              "  <tbody>\n",
              "    <tr>\n",
              "      <th>0</th>\n",
              "      <td>very good educational institution</td>\n",
              "      <td>1</td>\n",
              "    </tr>\n",
              "  </tbody>\n",
              "</table>\n",
              "</div>"
            ],
            "text/plain": [
              "                            Document  Class\n",
              "0  very good educational institution      1"
            ]
          },
          "metadata": {
            "tags": []
          },
          "execution_count": 20
        }
      ]
    },
    {
      "cell_type": "code",
      "metadata": {
        "id": "y_T-HXlV0WIJ",
        "colab": {
          "base_uri": "https://localhost:8080/"
        },
        "outputId": "c159d22d-0909-46e5-cee0-4568c0ee3c00"
      },
      "source": [
        "# convert to numpy array\n",
        "test_numpy_array = test_docs.values\n",
        "\n",
        "# split into X and y\n",
        "X_test = test_numpy_array[:,0]\n",
        "y_test = test_numpy_array[:,1]\n",
        "\n",
        "print(\"X_test\")\n",
        "print(X_test)\n",
        "print(\"y_test\")\n",
        "print(y_test)"
      ],
      "execution_count": 21,
      "outputs": [
        {
          "output_type": "stream",
          "text": [
            "X_test\n",
            "['very good educational institution']\n",
            "y_test\n",
            "[1]\n"
          ],
          "name": "stdout"
        }
      ]
    },
    {
      "cell_type": "code",
      "metadata": {
        "id": "i1aBuUR50WIK",
        "colab": {
          "base_uri": "https://localhost:8080/"
        },
        "outputId": "e940a442-c400-4333-bfef-e1d05b721771"
      },
      "source": [
        "# transform the test data\n",
        "# note that you *never* fit on test data, only on training data\n",
        "# and only transform the test data\n",
        "X_test_transformed = vec.transform(X_test)\n",
        "X_test_transformed"
      ],
      "execution_count": 22,
      "outputs": [
        {
          "output_type": "execute_result",
          "data": {
            "text/plain": [
              "<1x12 sparse matrix of type '<class 'numpy.int64'>'\n",
              "\twith 3 stored elements in Compressed Sparse Row format>"
            ]
          },
          "metadata": {
            "tags": []
          },
          "execution_count": 22
        }
      ]
    },
    {
      "cell_type": "code",
      "metadata": {
        "id": "oue3FeVt0WIK",
        "colab": {
          "base_uri": "https://localhost:8080/"
        },
        "outputId": "f009a12f-393f-46f8-8ec9-d3c2f3a9d0a1"
      },
      "source": [
        "# convert to non-sparse array\n",
        "X_test=X_test_transformed.toarray()\n",
        "X_test"
      ],
      "execution_count": 23,
      "outputs": [
        {
          "output_type": "execute_result",
          "data": {
            "text/plain": [
              "array([[0, 0, 1, 0, 1, 0, 0, 1, 0, 0, 0, 0]])"
            ]
          },
          "metadata": {
            "tags": []
          },
          "execution_count": 23
        }
      ]
    },
    {
      "cell_type": "markdown",
      "metadata": {
        "id": "ai-mKCaY0WIK"
      },
      "source": [
        "Let us summarise all we have done till now:\n",
        "\n",
        "- ```vect.fit(train)``` learns the vocabulary of the training data\n",
        "- ```vect.transform(train)``` uses the fitted vocabulary to build a document-term matrix from the training data\n",
        "- ```vect.transform(test)``` uses the fitted vocabulary to build a document-term matrix from the testing data (and ignores tokens it hasn't seen before)"
      ]
    },
    {
      "cell_type": "markdown",
      "metadata": {
        "id": "jnoM5QkT0WIL"
      },
      "source": [
        "### 2. Building the Model: Multinomial Naive Bayes"
      ]
    },
    {
      "cell_type": "code",
      "metadata": {
        "id": "deZwJgSZ0WIL"
      },
      "source": [
        "# building a multinomial NB model\n",
        "from sklearn.naive_bayes import MultinomialNB\n",
        "\n",
        "# instantiate NB class\n",
        "mnb=MultinomialNB()\n",
        "\n",
        "# fitting the model on training data\n",
        "mnb.fit(X_transformed, y_train)\n",
        "\n",
        "# note that we are using the sparse matrix X_transformed, \n",
        "# though you can also use the non-sparse version\n",
        "# mnb.fit(X_transformed.toarray(), y_train) \n",
        "\n",
        "# predicting probabilities of test data\n",
        "proba = mnb.predict_proba(X_test)\n"
      ],
      "execution_count": 24,
      "outputs": []
    },
    {
      "cell_type": "code",
      "metadata": {
        "id": "-1n9kk0r0WIL",
        "colab": {
          "base_uri": "https://localhost:8080/"
        },
        "outputId": "a9ee5eed-f79e-4797-c69b-d991a423c12a"
      },
      "source": [
        "# probability of each class (test data)\n",
        "print(\"probability of test document belonging to class CINEMA\" , proba[:,0])\n",
        "print(\"probability of test document belonging to class EDUCATION\" , proba[:,1])"
      ],
      "execution_count": 25,
      "outputs": [
        {
          "output_type": "stream",
          "text": [
            "probability of test document belonging to class CINEMA [0.32808399]\n",
            "probability of test document belonging to class EDUCATION [0.67191601]\n"
          ],
          "name": "stdout"
        }
      ]
    },
    {
      "cell_type": "markdown",
      "metadata": {
        "id": "BUCjused0WIN"
      },
      "source": [
        "### 3. Building the Model: Bernoulli Naive Bayes"
      ]
    },
    {
      "cell_type": "code",
      "metadata": {
        "id": "3dUf6PGr0WIN",
        "colab": {
          "base_uri": "https://localhost:8080/"
        },
        "outputId": "fd115ed8-15ef-4441-df22-f87e252e6cc1"
      },
      "source": [
        "from sklearn.naive_bayes import BernoulliNB\n",
        "\n",
        "# instantiating bernoulli NB class\n",
        "bnb=BernoulliNB()\n",
        "\n",
        "# fitting the model\n",
        "bnb.fit(X_transformed, y_train)\n",
        "\n",
        "# also works\n",
        "# bnb.fit(X_transformed.toarray(), y_train)\n",
        "\n",
        "# predicting probability of test data\n",
        "bnb.predict_proba(X_test)\n",
        "prob_bnb = bnb.predict_proba(X_test)\n",
        "prob_bnb"
      ],
      "execution_count": 26,
      "outputs": [
        {
          "output_type": "execute_result",
          "data": {
            "text/plain": [
              "array([[0.2326374, 0.7673626]])"
            ]
          },
          "metadata": {
            "tags": []
          },
          "execution_count": 26
        }
      ]
    },
    {
      "cell_type": "markdown",
      "metadata": {
        "id": "8dlChurA0WIN"
      },
      "source": [
        "In the next notebook, we will use Multinomial and Bernoulli Naive Bayes to solve an interesting real problem - classifying SMSes as spam or ham. We'll also see how to decide the optimal cutoff probability and evaluate the model.\n"
      ]
    }
  ]
}